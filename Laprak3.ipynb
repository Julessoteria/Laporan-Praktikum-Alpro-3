{
 "cells": [
  {
   "cell_type": "code",
   "execution_count": 1,
   "id": "96d5b8d6",
   "metadata": {},
   "outputs": [
    {
     "name": "stdout",
     "output_type": "stream",
     "text": [
      "Masukkan suhu tubuh: 30\n",
      "Anda tidak demam\n"
     ]
    }
   ],
   "source": [
    "try:\n",
    "    suhu = int(input(\"Masukkan suhu tubuh: \"))\n",
    "    if suhu >= 38:\n",
    "        print(\"Anda demam\")\n",
    "    else:\n",
    "        print(\"Anda tidak demam\")\n",
    "except ValueError:\n",
    "    print(\"Masukan tidak valid. Pastikan Anda memasukkan angka.\")"
   ]
  },
  {
   "cell_type": "code",
   "execution_count": null,
   "id": "cc35acff",
   "metadata": {},
   "outputs": [],
   "source": []
  },
  {
   "cell_type": "code",
   "execution_count": 2,
   "id": "12636349",
   "metadata": {},
   "outputs": [
    {
     "data": {
      "text/plain": [
       "20"
      ]
     },
     "execution_count": 2,
     "metadata": {},
     "output_type": "execute_result"
    }
   ],
   "source": []
  },
  {
   "cell_type": "code",
   "execution_count": 3,
   "id": "7ced7109",
   "metadata": {},
   "outputs": [
    {
     "name": "stdout",
     "output_type": "stream",
     "text": [
      "Masukkan suatu bilangan: 50\n",
      "Positif\n"
     ]
    }
   ],
   "source": [
    "try:\n",
    "    bilangan = int(input(\"Masukkan suatu bilangan: \"))\n",
    "    if bilangan > 0:\n",
    "        print(\"Positif\")\n",
    "    elif bilangan < 0:\n",
    "        print(\"Negatif\")\n",
    "    elif bilangan == 0:\n",
    "        print(\"Nol\")\n",
    "except ValueError:\n",
    "    print(\"Input bukan bilangan bulat. Mohon masukkan bilangan bulat.\")"
   ]
  },
  {
   "cell_type": "code",
   "execution_count": 4,
   "id": "a48ff537",
   "metadata": {},
   "outputs": [
    {
     "name": "stdout",
     "output_type": "stream",
     "text": [
      "Masukkan bilangan pertama: 12\n",
      "Masukkan bilangan kedua: 10\n",
      "Masukkan bilangan ketiga: 5\n",
      "Terbesar:  12\n"
     ]
    }
   ],
   "source": [
    "try:\n",
    "    a = int(input(\"Masukkan bilangan pertama: \"))\n",
    "    b = int(input(\"Masukkan bilangan kedua: \"))\n",
    "    c = int(input(\"Masukkan bilangan ketiga: \"))\n",
    "\n",
    "    if a > b and a > c:\n",
    "        print(\"Terbesar: \", a)\n",
    "    elif b > a and b > c:\n",
    "        print(\"Terbesar: \", b)\n",
    "    elif c > a and c > b:\n",
    "        print(\"Terbesar: \", c)\n",
    "\n",
    "except ValueError:\n",
    "    print(\"Input bukan bilangan bulat. Mohon masukkan bilangan bulat.\")\n"
   ]
  },
  {
   "cell_type": "code",
   "execution_count": 5,
   "id": "fda87f18",
   "metadata": {},
   "outputs": [
    {
     "name": "stdout",
     "output_type": "stream",
     "text": [
      "Masukkan suatu bilangan: 70\n",
      "Positif\n"
     ]
    }
   ],
   "source": [
    "try:\n",
    "    bilangan = int(input(\"Masukkan suatu bilangan: \"))\n",
    "    print(\"Positif\" if bilangan > 0 else (\"Negatif\" if bilangan < 0 else \"Nol\"))\n",
    "except ValueError:\n",
    "    print(\"Input bukan bilangan bulat. Mohon masukkan bilangan bulat.\")\n"
   ]
  },
  {
   "cell_type": "code",
   "execution_count": 6,
   "id": "ab8275d7",
   "metadata": {},
   "outputs": [
    {
     "name": "stdout",
     "output_type": "stream",
     "text": [
      "Masukkan bulan (1-12): 3\n",
      "Jumlah hari: 31\n"
     ]
    }
   ],
   "source": [
    "def jumlah_hari(bulan):\n",
    "    if bulan == 2:\n",
    "        return 29 \n",
    "    elif bulan in [4, 6, 9, 11]:\n",
    "        return 30\n",
    "    else:\n",
    "        return 31\n",
    "\n",
    "def main():\n",
    "    while True:\n",
    "        try:\n",
    "            nomor_bulan = int(input(\"Masukkan bulan (1-12): \"))\n",
    "            if nomor_bulan < 1 or nomor_bulan > 12:\n",
    "                raise ValueError(\"Nomor bulan tidak valid.\")\n",
    "            \n",
    "            hari = jumlah_hari(nomor_bulan)\n",
    "            print(\"Jumlah hari:\", hari)\n",
    "            break \n",
    "        except ValueError as e:\n",
    "            print(\"Error:\", e)\n",
    "\n",
    "if __name__ == \"__main__\":\n",
    "    main()\n"
   ]
  },
  {
   "cell_type": "code",
   "execution_count": 7,
   "id": "9664c720",
   "metadata": {},
   "outputs": [
    {
     "name": "stdout",
     "output_type": "stream",
     "text": [
      "Masukkan panjang sisi 1: 10\n",
      "Masukkan panjang sisi 2: 5\n",
      "Masukkan panjang sisi 3: 3\n",
      "Tidak ada yang sama\n"
     ]
    }
   ],
   "source": [
    "def cek_sisi_segitiga(sisi1, sisi2, sisi3):\n",
    "    if sisi1 <= 0 or sisi2 <= 0 or sisi3 <= 0:\n",
    "        return \"Panjang sisi harus positif. Silakan masukkan nilai yang valid.\"\n",
    "    elif sisi1 == sisi2 == sisi3:\n",
    "        return \"3 sisi sama\"\n",
    "    elif sisi1 == sisi2 or sisi1 == sisi3 or sisi2 == sisi3:\n",
    "        return \"2 sisi sama\"\n",
    "    else:\n",
    "        return \"Tidak ada yang sama\"\n",
    "\n",
    "try:\n",
    "    sisi1 = float(input(\"Masukkan panjang sisi 1: \"))\n",
    "    sisi2 = float(input(\"Masukkan panjang sisi 2: \"))\n",
    "    sisi3 = float(input(\"Masukkan panjang sisi 3: \"))\n",
    "\n",
    "    hasil = cek_sisi_segitiga(sisi1, sisi2, sisi3)\n",
    "    print(hasil)\n",
    "\n",
    "except ValueError:\n",
    "    print(\"Masukkan harus berupa angka. Silakan coba lagi.\")"
   ]
  },
  {
   "cell_type": "code",
   "execution_count": null,
   "id": "0ed20dc4",
   "metadata": {},
   "outputs": [],
   "source": []
  },
  {
   "cell_type": "code",
   "execution_count": null,
   "id": "4ccb5559",
   "metadata": {},
   "outputs": [],
   "source": []
  },
  {
   "cell_type": "code",
   "execution_count": null,
   "id": "616ff7bd",
   "metadata": {},
   "outputs": [],
   "source": []
  }
 ],
 "metadata": {
  "kernelspec": {
   "display_name": "Python 3 (ipykernel)",
   "language": "python",
   "name": "python3"
  },
  "language_info": {
   "codemirror_mode": {
    "name": "ipython",
    "version": 3
   },
   "file_extension": ".py",
   "mimetype": "text/x-python",
   "name": "python",
   "nbconvert_exporter": "python",
   "pygments_lexer": "ipython3",
   "version": "3.11.5"
  }
 },
 "nbformat": 4,
 "nbformat_minor": 5
}
